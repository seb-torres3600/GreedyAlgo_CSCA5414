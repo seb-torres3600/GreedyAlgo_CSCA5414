{
 "cells": [
  {
   "cell_type": "markdown",
   "metadata": {
    "deletable": false,
    "editable": false,
    "nbgrader": {
     "cell_type": "markdown",
     "checksum": "4c073681d2f9c3b463d47848a6d9a26b",
     "grade": false,
     "grade_id": "cell-df240126ba94f056",
     "locked": true,
     "schema_version": 3,
     "solution": false,
     "task": false
    }
   },
   "source": [
    "# Final Exam Instructions\n",
    "\n",
    "Instructions are provided as part of a reading along with this final exam. Please ensure that you have read them carefully before attempting this exam."
   ]
  },
  {
   "cell_type": "markdown",
   "metadata": {
    "deletable": false,
    "editable": false,
    "nbgrader": {
     "cell_type": "markdown",
     "checksum": "38da82e0206ee823f8fc8d2fdfd6de63",
     "grade": false,
     "grade_id": "cell-37243ab7fd2a7430",
     "locked": true,
     "schema_version": 3,
     "solution": false,
     "task": false
    }
   },
   "source": [
    "# Problem 1 (15 points)\n",
    "\n",
    "You are given a list of $n$ rods of various lengths as a list `[1[0], l[1],...,l[n-1]]`.\n",
    "\n",
    "Your job is to attach the rods in some order to make a single rod of length $\\texttt{l[0]} + \\texttt{l[1]} + \\cdots + \\texttt{l[n-1]}$.\n",
    "\n",
    "However, if you attach two rods of length $\\ell, m$, you have to pay a cost $\\ell + m$.\n",
    "\n",
    "--- \n",
    "\n",
    "### Example\n",
    "~~~\n",
    "l = [1, 5, 2, 4, 3, 2]\n",
    "~~~\n",
    "Here is one sequence of attachments:\n",
    " 1. Attach rod 1, 5: new rod of length 6 is formed and cost so far = 6. Lengths: `[6, 2, 4, 3, 2]`\n",
    " 2. Attach rod 2, 2: new rod of length 4 is formed and cost so far = 6 + 4 = 10, Lengths: `[6, 4, 4, 3]`.\n",
    " 3. Attach rod 4, 3: new rod of length 7 is formed and cost so far = 10 + 7 = 17, Lengths: `[6,4, 7]`.\n",
    " 4. Attach rod 6, 7: new rod of length 13 is formed and cost so far = 17 + 13 = 30, Lengths = `[13, 4]`.\n",
    " 5. Attach rod 13, 4: new rod of length 17 is formed and cost so far = 30 + 17 = 47. Lengths = `[17]`.\n",
    " \n",
    "Total cost of attachment is 47 if we did it in the manner above.\n",
    "\n",
    "Here is another way to do the same:\n",
    " 1. Attach rods 1, 2: cost so far = 3, Lengths = `[3, 5, 4, 3, 2]`.\n",
    " 2. Attach rods 2, 3: cost so far = 3+5 = 8, Lengths = `[5, 5, 4, 3]`\n",
    " 3. Attach rods: 3, 4: cost so far=  8 + 7 = 15, Lenghts = `[5, 5, 7]`\n",
    " 4. Attach rods: 5, 5: cost so far = 15 + 10 = 25, lengths = `[10, 7]`\n",
    " 5. Attach rods: 10, 17: cost so far = 25 + 17 = 42, lengths = `[17]`.\n",
    " Total Cost = 42.\n",
    " \n",
    "The second approach is more efficient in terms of cost than the first.\n",
    " \n",
    "---\n",
    "\n",
    "\n",
    "\n",
    "Given a list of rod lengths write an algorithm to attach them all into a single rod while minimizing the total cost paid. Your function should simply return the total cost. There is no need to compute the sequence of joins to be made.\n",
    "\n",
    "First write your pseudocode below and figure out the best way to implement it so that you can find the best cost in $\\Theta(n \\log(n))$ steps given $n$ rods. The pseudocode is for your own benefit: we will not be grading your answer.\n",
    "\n",
    "__Hint:__ Think about the similarities between this problem and Huffman codes that you studied."
   ]
  },
  {
   "cell_type": "markdown",
   "metadata": {
    "deletable": false,
    "nbgrader": {
     "cell_type": "markdown",
     "checksum": "0650d0f03b7459c46d52a9dc30252b1c",
     "grade": true,
     "grade_id": "cell-782d0eb755ba0cef",
     "locked": false,
     "points": 0,
     "schema_version": 3,
     "solution": true,
     "task": false
    }
   },
   "source": [
    "YOUR ANSWER HERE"
   ]
  },
  {
   "cell_type": "markdown",
   "metadata": {
    "deletable": false,
    "editable": false,
    "nbgrader": {
     "cell_type": "markdown",
     "checksum": "7dfa3644697ebdce5172699c74c8a7f4",
     "grade": false,
     "grade_id": "cell-ef55edea7bb141ae",
     "locked": true,
     "schema_version": 3,
     "solution": false,
     "task": false
    }
   },
   "source": [
    "Implement the function `findOptimalJoiningCost` below. Given a list of rod lengths, it should return the optimal cost. You can use pythons inbuilt heap routines. https://www.geeksforgeeks.org/heap-queue-or-heapq-in-python/"
   ]
  },
  {
   "cell_type": "code",
   "execution_count": 6,
   "metadata": {
    "deletable": false,
    "nbgrader": {
     "cell_type": "code",
     "checksum": "c40d9e8f0d81588ca8d47ba1425cc7df",
     "grade": false,
     "grade_id": "cell-768eab76616bc49e",
     "locked": false,
     "schema_version": 3,
     "solution": true,
     "task": false
    }
   },
   "outputs": [],
   "source": [
    "import heapq\n",
    "\n",
    "def findOptimalJoiningCost(lengths):\n",
    "    # your code here\n",
    "    # Keep a count of our total cost\n",
    "    totalCost = 0\n",
    "    # Turn our list into a heap\n",
    "    heapq.heapify(lengths)\n",
    "    # We are trying to get to one rod, so iterate until we do\n",
    "    while len(lengths) > 1:\n",
    "        # Grab the two smallest rods and combine\n",
    "        first_shortest = heapq.heappop(lengths)\n",
    "        second_shortest = heapq.heappop(lengths)\n",
    "        new_rod = first_shortest + second_shortest\n",
    "        # Add new rod to our heap to combine with others\n",
    "        heapq.heappush(lengths, new_rod)\n",
    "        # Add our new_rod size to our cost\n",
    "        totalCost += new_rod\n",
    "\n",
    "    return totalCost\n",
    "    "
   ]
  },
  {
   "cell_type": "code",
   "execution_count": 7,
   "metadata": {
    "deletable": false,
    "editable": false,
    "nbgrader": {
     "cell_type": "code",
     "checksum": "bd62f647221c67ac23acd0a06754af2e",
     "grade": true,
     "grade_id": "cell-ba3fe1722e97faee",
     "locked": true,
     "points": 15,
     "schema_version": 3,
     "solution": false,
     "task": false
    }
   },
   "outputs": [
    {
     "name": "stdout",
     "output_type": "stream",
     "text": [
      "-- Test 1 --\n",
      "42\n",
      "-- Test 2 --\n",
      "65\n",
      "-- Test 3 --\n",
      "173\n",
      "-- Test 4 --\n",
      "652216969\n",
      "-- Test 5 --\n",
      "81780799249\n",
      "All tests passed: 15 points\n"
     ]
    }
   ],
   "source": [
    "print('-- Test 1 --')\n",
    "l1 = [1, 5, 2, 4, 3, 2]\n",
    "c1 = findOptimalJoiningCost(l1)\n",
    "print(c1)\n",
    "assert c1 == 42\n",
    "\n",
    "print('-- Test 2 --')\n",
    "l2 = [4, 7, 6, 3, 4, 2 ]\n",
    "c2 = findOptimalJoiningCost(l2)\n",
    "print(c2)\n",
    "assert c2 == 65\n",
    "\n",
    "print('-- Test 3 --')\n",
    "l3 = [1, 2, 3, 4, 5, 6, 7, 8, 9, 10]\n",
    "c3 = findOptimalJoiningCost(l3)\n",
    "print(c3)\n",
    "assert c3 == 173\n",
    "\n",
    "print('-- Test 4 --')\n",
    "l4 = list(range(10000))\n",
    "c4 = findOptimalJoiningCost(l4)\n",
    "print(c4)\n",
    "assert c4 == 652216969\n",
    "\n",
    "print('-- Test 5 --')\n",
    "l5 = list(range(100000))\n",
    "c5 = findOptimalJoiningCost(l5)\n",
    "print(c5)\n",
    "assert c5 == 81780799249\n",
    "\n",
    "print('All tests passed: 15 points')"
   ]
  },
  {
   "cell_type": "markdown",
   "metadata": {
    "deletable": false,
    "editable": false,
    "nbgrader": {
     "cell_type": "markdown",
     "checksum": "e8ab67ba69d1ccf6808fbf961f3c1b33",
     "grade": false,
     "grade_id": "cell-250c0fcd3fc77ca1",
     "locked": true,
     "schema_version": 3,
     "solution": false,
     "task": false
    }
   },
   "source": [
    "## Problem 2 (15 points)\n",
    "\n",
    "In this problem, you are given a list of numbers `l: [l[0], ..., l[n-1]]`. Your goal is to partition this into two  lists `l1, l2` such that each element `l[i]` belongs to exactly one of `l1, l2` and the difference between the sums of the two lists is minimized:\n",
    " $$\\min\\ | \\text{sum}(\\texttt{l1}) - \\text{sum}(\\texttt{l2}) | $$\n",
    " \n",
    " where $\\text{sum}(\\texttt{l})$ for a list $l$ denotes the sum of the elements in a list.\n",
    "\n",
    "\n",
    "### Example\n",
    "\n",
    "~~~\n",
    "l = [ 1, 5, 7, 8, 4, 6, 15]\n",
    "~~~\n",
    "\n",
    "Partition it as \n",
    "~~~ \n",
    "l1 = [1, 7, 15], l2 = [5, 8, 4, 6] \n",
    "~~~\n",
    "\n",
    "Note that in this case `sum(l1) = sum(l2) = 23`. Thus, we have minimized the absolute difference to 0, which is the best possible.\n",
    "\n",
    "\n",
    "### Dynamic Programming \n",
    "$$\\newcommand\\minAbsDiff{\\textsf{minAbsDiff}}$$\n",
    "Let  $\\minAbsDiff(i, s_1, s_2)$ denote the minimum difference achievable when considering the sublist `[l[i],...,l[n-1]]` with $s_1$ being the sum of elements already committed to list `l1` and $s_2$ being the sum of elements already committed to `l2`.\n",
    "\n",
    "\n",
    "$$\\minAbsDiff(i, s_1, s_2) = \\begin{cases}\n",
    "??? & i \\geq n \\ \\leftarrow\\ \\text{sublist is empty}\\\\\n",
    "\\min(\\minAbsDiff(i+1, ??? , s_2) , \\minAbsDiff(i+1, s_1,??? )) & i \\leq n-1 \\ \\leftarrow\\ \\text{assign l[i] to l1 or l2}\\\\\n",
    "\\end{cases}$$\n",
    "\n",
    "Implement the function `computeBestPartition(l)` that takes in a list `l` and returns the partition as a tuple of lists `(l1, l2)`.\n",
    "\n",
    "\n",
    "* Assume that all elements of the list `l` are positive whole numbers.\n",
    "* Complete and memoize the recurrence above.\n",
    "* Recover the solution \n"
   ]
  },
  {
   "cell_type": "code",
   "execution_count": 14,
   "metadata": {
    "deletable": false,
    "nbgrader": {
     "cell_type": "code",
     "checksum": "ac09319dac76e22788dffb6795067b0c",
     "grade": false,
     "grade_id": "cell-d2ac005873b8d07a",
     "locked": false,
     "schema_version": 3,
     "solution": true,
     "task": false
    }
   },
   "outputs": [],
   "source": [
    "def computeBestPartition(l):\n",
    "    n = len(l)\n",
    "    assert n >= 1\n",
    "    assert all(elt >= 1 and elt== int(elt) for elt in l)\n",
    "    # your code here\n",
    "    return minAbsDiff(0, l, [],[])\n",
    "\n",
    "def minAbsDiff(i, l, l1, l2):\n",
    "    # base case where i is greated than the num of values in our list\n",
    "    if i >= len(l):\n",
    "        return l1,l2\n",
    "    \n",
    "    # Add our value at i to both list\n",
    "    tmp_list1 = l1 + [l[i]]\n",
    "    tmp_list2 = l2 + [l[i]]\n",
    "\n",
    "    # Recurisevly get min absolute diff if one list stays the same and the other one changes\n",
    "    a1, b1 = minAbsDiff(i+1, l, tmp_list1, l2)\n",
    "    a2, b2 = minAbsDiff(i+1, l, l1, tmp_list2)\n",
    "\n",
    "    # Return the list that have the smallest diff\n",
    "    if abs(sum(b1) - sum(a1)) >= abs(sum(b2) - sum(a1)):\n",
    "        return  a2, b2\n",
    "    return a1, b1\n",
    "    "
   ]
  },
  {
   "cell_type": "code",
   "execution_count": 15,
   "metadata": {
    "deletable": false,
    "editable": false,
    "nbgrader": {
     "cell_type": "code",
     "checksum": "16c022952fc2d8cd80bfc53970d6971f",
     "grade": true,
     "grade_id": "cell-69f932585ba72b94",
     "locked": true,
     "points": 15,
     "schema_version": 3,
     "solution": false,
     "task": false
    }
   },
   "outputs": [
    {
     "name": "stdout",
     "output_type": "stream",
     "text": [
      "-- Test 1 --\n",
      "[8, 15] [1, 5, 7, 4, 6] 23 23\n",
      "passed.\n",
      "-- Test 2 --\n",
      "[22, 29, 41] [1, 10, 14, 16, 19, 15, 18] 92 93\n",
      "passed.\n",
      "-- Test 3 --\n",
      "[18, 19, 14, 12, 2, 4] [5, 16, 21, 13, 15] 69 70\n",
      "passed.\n",
      "-- Test 4 --\n",
      "[21, 29, 18, 13, 11, 8, 6] [4, 15, 17, 12, 19, 20, 14, 5] 106 106\n",
      "passed.\n",
      "All tests passed: 15 points!\n"
     ]
    }
   ],
   "source": [
    "def checkIfPartition(l, l1, l2):\n",
    "    assert all((elt in l1 and elt not in l2) or (elt in l2 and elt not in l1) for elt in l)\n",
    "    assert all(elt in l for elt in l1)\n",
    "    assert all(elt in l for elt in l2)\n",
    "\n",
    "print('-- Test 1 --')\n",
    "l = [ 1, 5, 7, 8, 4, 6, 15]\n",
    "(l1, l2) = computeBestPartition(l)\n",
    "print(l1, l2, sum(l1), sum(l2))\n",
    "assert sum(l1) == sum(l2)\n",
    "checkIfPartition(l, l1, l2)\n",
    "print('passed.')\n",
    "print('-- Test 2 --')\n",
    "l = [1, 10, 14, 16, 19, 22, 29 ,41,  15, 18]\n",
    "(l1, l2) = computeBestPartition(l)\n",
    "print(l1, l2, sum(l1), sum(l2))\n",
    "assert abs(sum(l1) - sum(l2)) <= 1\n",
    "checkIfPartition(l, l1, l2)\n",
    "print('passed.')\n",
    "print('-- Test 3 --')\n",
    "l = [5, 16, 21, 13, 15, 18, 19, 14, 12, 2, 4]\n",
    "(l1, l2) = computeBestPartition(l)\n",
    "print(l1, l2, sum(l1), sum(l2))\n",
    "assert abs(sum(l1) - sum(l2)) <= 1\n",
    "checkIfPartition(l, l1, l2)\n",
    "print('passed.')\n",
    "print('-- Test 4 --')\n",
    "l = [4, 15, 17, 12, 19, 20, 21,  29, 18, 14,  13, 11, 8, 5, 6]\n",
    "(l1, l2) = computeBestPartition(l)\n",
    "print(l1, l2, sum(l1), sum(l2))\n",
    "assert abs(sum(l1) - sum(l2)) <= 0\n",
    "checkIfPartition(l, l1, l2)\n",
    "print('passed.')\n",
    "print('All tests passed: 15 points!')"
   ]
  },
  {
   "cell_type": "markdown",
   "metadata": {
    "deletable": false,
    "editable": false,
    "nbgrader": {
     "cell_type": "markdown",
     "checksum": "a0b6e38af72a4435c0e1a52bda2716eb",
     "grade": false,
     "grade_id": "cell-54829b5c000d1584",
     "locked": true,
     "schema_version": 3,
     "solution": false,
     "task": false
    }
   },
   "source": [
    "## Problem 3\n",
    "\n",
    "You are giving a binary search tree $T$ and your goal is to _find the longest path in the tree_. \n",
    " - A path can go from a node to its parent or to one of its children.\n",
    " - Each node can occur at most once in a path.\n",
    " - The length of the path is the number of nodes in it.\n",
    " \n",
    "### Example 1\n",
    "\n",
    "Consider the tree below\n",
    "\n",
    "<img src=\"./tree1.png\" width=\"25%\">\n",
    "\n",
    "The longest path is shown in red. It has 7 nodes. Note that the longest path is not unique in this case. There is another path of length 7 that passes through the tree's root.\n"
   ]
  },
  {
   "cell_type": "markdown",
   "metadata": {
    "deletable": false,
    "editable": false,
    "nbgrader": {
     "cell_type": "markdown",
     "checksum": "43b8c8d9e721ad5c896db1408e532529",
     "grade": false,
     "grade_id": "cell-e7808c68a813ed14",
     "locked": true,
     "schema_version": 3,
     "solution": false,
     "task": false
    }
   },
   "source": [
    "### Example 2\n",
    "\n",
    "Consider the tree below\n",
    "\n",
    "<img src=\"./tree2.png\" width=\"15%\">\n",
    "\n",
    "The longest path is shown in red. It has length 7.\n",
    "\n",
    "---\n",
    "\n",
    "Given a tree represented by the `TreeNode` class instance below, complete the function `getLongestPath` that returns the length of the longest path. For your convenience, we have a field called `depth` at each node of the tree which represents the length of the longest path from that node down to a leaf."
   ]
  },
  {
   "cell_type": "markdown",
   "metadata": {
    "deletable": false,
    "editable": false,
    "nbgrader": {
     "cell_type": "markdown",
     "checksum": "860125744410e6bc270bf43a0563967b",
     "grade": false,
     "grade_id": "cell-acfc2c982766d283",
     "locked": true,
     "schema_version": 3,
     "solution": false,
     "task": false
    }
   },
   "source": [
    "## Hint\n",
    "\n",
    "Use divide and conquer by  considering\n",
    " - longest path length in the left subtree\n",
    " - longest path length in the right subtree\n",
    " - longest path that passes through the current root node.\n",
    "\n",
    "The diagram below should help.\n",
    "\n",
    "<img src=\"./fig1.png\" width=\"40%\">\n",
    "\n",
    "The longest path can be entirely in the left subrtree, or right subtree, or in the third case, it can pass through the current root node. In the third case, we can use the `depth` information for left and right subtrees to figure out the length of the longest path.\n"
   ]
  },
  {
   "cell_type": "code",
   "execution_count": 16,
   "metadata": {
    "deletable": false,
    "editable": false,
    "nbgrader": {
     "cell_type": "code",
     "checksum": "357278b0e3d39960bd273e1cffd3b2d6",
     "grade": false,
     "grade_id": "cell-5ca5b42dc4651ad7",
     "locked": true,
     "schema_version": 3,
     "solution": false,
     "task": false
    }
   },
   "outputs": [],
   "source": [
    "class TreeNode:\n",
    "    def __init__(self, key, parent_node=None):\n",
    "        # this is the key at the current node\n",
    "        self.key = key\n",
    "        # store parent node information\n",
    "        self.parent = parent_node\n",
    "        # left and right children\n",
    "        self.left = None\n",
    "        self.right = None\n",
    "        # depth\n",
    "        self.depth = 1\n",
    "    \n",
    "    def is_root(self):\n",
    "        return parent_node == None\n",
    "    \n",
    "    def insert(self, new_key):\n",
    "        key = self.key\n",
    "        if new_key == key:\n",
    "            print(f'Already inserted key {key}. Ignoring')\n",
    "        elif new_key < key:\n",
    "            if self.left == None:\n",
    "                new_node = TreeNode(new_key, self)\n",
    "                self.left = new_node\n",
    "            else:\n",
    "                self.left.insert(new_key)\n",
    "        else: \n",
    "            assert new_key > key\n",
    "            if self.right == None:\n",
    "                new_node = TreeNode(new_key, self)\n",
    "                self.right = new_node\n",
    "            else: \n",
    "                self.right.insert(new_key)\n",
    "        #update the depth\n",
    "        left_depth = self.left.depth if self.left != None else 0\n",
    "        right_depth = self.right.depth if self.right != None else 0\n",
    "        self.depth = max(left_depth, right_depth) + 1"
   ]
  },
  {
   "cell_type": "code",
   "execution_count": 27,
   "metadata": {
    "deletable": false,
    "nbgrader": {
     "cell_type": "code",
     "checksum": "74702481b98bb722cd293312ab3dd846",
     "grade": false,
     "grade_id": "cell-1ff2c4055309fd41",
     "locked": false,
     "schema_version": 3,
     "solution": true,
     "task": false
    }
   },
   "outputs": [],
   "source": [
    "def getLongestPathLength(rootNode):\n",
    "    # rootNode is an instance of the TreeNode class\n",
    "    # The function must return the longest path length\n",
    "    # your code here\n",
    "    if not rootNode:\n",
    "        return 0\n",
    "\n",
    "    return rootNode.left.depth + rootNode.right.depth + 1\n",
    "    \n",
    "    "
   ]
  },
  {
   "cell_type": "code",
   "execution_count": 28,
   "metadata": {
    "deletable": false,
    "editable": false,
    "nbgrader": {
     "cell_type": "code",
     "checksum": "a00ef0065f4b3b1e443645375489e32c",
     "grade": true,
     "grade_id": "cell-26d3d7802596d455",
     "locked": true,
     "points": 15,
     "schema_version": 3,
     "solution": false,
     "task": false
    }
   },
   "outputs": [
    {
     "name": "stdout",
     "output_type": "stream",
     "text": [
      "-- Test 1 --\n",
      "7\n",
      "passed\n",
      "-- Test 2 --\n",
      "7\n",
      "-- Test 3 --\n",
      "10\n",
      "-- Test 4--\n",
      "9\n",
      "All Tests Passed: 15 points!\n"
     ]
    }
   ],
   "source": [
    "def make_tree(l):\n",
    "    assert len(l) >= 1\n",
    "    rootNode = TreeNode(l[0])\n",
    "    for elt in l[1:]:\n",
    "        rootNode.insert(elt)\n",
    "    return rootNode\n",
    "\n",
    "print('-- Test 1 --')\n",
    "l = [55, 40, 70, 20, 47, 10, 43, 52, 50, 51]\n",
    "r = make_tree(l)\n",
    "path_len = getLongestPathLength(r)\n",
    "print(path_len)\n",
    "assert path_len == 7\n",
    "print('passed')\n",
    "print('-- Test 2 --')\n",
    "l = [55, 40, 70, 47,  43, 52, 50, 51]\n",
    "r = make_tree(l)\n",
    "path_len = getLongestPathLength(r)\n",
    "print(path_len)\n",
    "assert path_len == 7\n",
    "print('-- Test 3 --')\n",
    "l = [26, 17, 41, 14, 21, 30, 47, 10, 16, 19, 23, 28, 38, 7, 12, 15, 20, 35, 39, 3]\n",
    "r = make_tree(l)\n",
    "path_len = getLongestPathLength(r)\n",
    "print(path_len)\n",
    "assert path_len == 10\n",
    "print('-- Test 4--')\n",
    "l = [7, 4, 18, 3, 6, 11, 19, 2, 9, 14, 22, 12, 17, 20, 21]\n",
    "r = make_tree(l)\n",
    "path_len = getLongestPathLength(r)\n",
    "print(path_len)\n",
    "assert path_len == 9\n",
    "print('All Tests Passed: 15 points!')"
   ]
  },
  {
   "cell_type": "markdown",
   "metadata": {
    "deletable": false,
    "editable": false,
    "nbgrader": {
     "cell_type": "markdown",
     "checksum": "171c887d2549a5dfdf2d521ff869f6ab",
     "grade": false,
     "grade_id": "cell-192515fb900db835",
     "locked": true,
     "schema_version": 3,
     "solution": false,
     "task": false
    }
   },
   "source": [
    "## That's all folks"
   ]
  }
 ],
 "metadata": {
  "kernelspec": {
   "display_name": "Python 3",
   "language": "python",
   "name": "python3"
  },
  "language_info": {
   "codemirror_mode": {
    "name": "ipython",
    "version": 3
   },
   "file_extension": ".py",
   "mimetype": "text/x-python",
   "name": "python",
   "nbconvert_exporter": "python",
   "pygments_lexer": "ipython3",
   "version": "3.12.3"
  }
 },
 "nbformat": 4,
 "nbformat_minor": 5
}
